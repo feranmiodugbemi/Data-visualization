{
 "cells": [
  {
   "cell_type": "markdown",
   "id": "26cb7a1d-e621-4642-adc7-7583c4e5b611",
   "metadata": {},
   "source": [
    "# Install all necessary packages\n",
    "- **pandas:** for data manipulation and analysis, particularly with DataFrames.\n",
    "- **numpy:** for large, multi-dimensional arrays and matrices\n",
    "- **seaborn:** A statistical data visualization library based on Matplotlib\n",
    "- **matplotlib:** or creating static, interactive, and animated visualizations.\n",
    "- **prettytable:** for creating ASCII tables to better display data.\n",
    "- **missingno:** for visualizing missing values in datasets."
   ]
  },
  {
   "cell_type": "code",
   "execution_count": null,
   "id": "1d116b05-657a-4c7d-9a43-19d1da558150",
   "metadata": {
    "scrolled": true
   },
   "outputs": [],
   "source": [
    "!pip3 install pandas numpy seaborn matplotlib prettytable missingno mpl-tools"
   ]
  },
  {
   "cell_type": "markdown",
   "id": "bfc44ed5-aa3b-4402-baa3-0744c4cd997d",
   "metadata": {},
   "source": [
    "# Import packages"
   ]
  },
  {
   "cell_type": "code",
   "execution_count": 46,
   "id": "84696d12-cace-46ca-9352-e293f9541d0a",
   "metadata": {},
   "outputs": [],
   "source": [
    "import random\n",
    "import numpy as np \n",
    "import pandas as pd\n",
    "from pandas.plotting import parallel_coordinates\n",
    "\n",
    "from prettytable import PrettyTable\n",
    "\n",
    "import seaborn as sns\n",
    "import missingno as msno\n",
    "import matplotlib.pyplot as plt\n",
    "from mpl_toolkits.mplot3d import Axes3D"
   ]
  },
  {
   "cell_type": "markdown",
   "id": "b01b3bbb-a65b-43f0-b016-809ae93ca420",
   "metadata": {},
   "source": [
    "# 0.) Prepare dataset"
   ]
  },
  {
   "cell_type": "code",
   "execution_count": 25,
   "id": "d8b578aa-0c72-4b68-9ef7-80c424e6d93c",
   "metadata": {},
   "outputs": [],
   "source": [
    "# CSV file name\n",
    "file_name = \"Most Streamed Spotify Songs 2024.csv\"\n",
    "\n",
    "# Set display options for pandas\n",
    "pd.set_option('display.max_columns', None)\n",
    "\n",
    "# Load CSV file into DataFrame\n",
    "df = pd.read_csv('Most Streamed Spotify Songs 2024.csv', encoding=\"ISO-8859-1\")\n"
   ]
  },
  {
   "cell_type": "markdown",
   "id": "25634d1e-1e31-47ce-8a47-35aa2266df76",
   "metadata": {},
   "source": [
    "# 1.) Data analysis"
   ]
  },
  {
   "cell_type": "markdown",
   "id": "75bd2d23-a289-40e5-8390-08003c88fb24",
   "metadata": {},
   "source": [
    "## 1.1) Dataset"
   ]
  },
  {
   "cell_type": "code",
   "execution_count": null,
   "id": "e67db727-db6e-4ffd-8933-8a14da88b01a",
   "metadata": {},
   "outputs": [],
   "source": [
    "df.head() # Prints the first 5 row and column in the data"
   ]
  },
  {
   "cell_type": "code",
   "execution_count": null,
   "id": "44093db7-8b1c-4e77-9c92-b550a18a6ef2",
   "metadata": {},
   "outputs": [],
   "source": [
    "df.describe() # Provides a summary of statistics for numerical columns in the DataFrame."
   ]
  },
  {
   "cell_type": "code",
   "execution_count": null,
   "id": "f13e7348-e2d5-4be9-9bf3-2300c1cb78ca",
   "metadata": {},
   "outputs": [],
   "source": [
    "df.info() # Provides a small summary about the data"
   ]
  },
  {
   "cell_type": "markdown",
   "id": "b7639a95-16a5-4732-80d4-c53b0b5dd535",
   "metadata": {},
   "source": [
    "## 1.2) Plot missing values"
   ]
  },
  {
   "cell_type": "code",
   "execution_count": null,
   "id": "be4ff9d9-8b8f-40c1-ba47-00a7727eadf1",
   "metadata": {},
   "outputs": [],
   "source": [
    "# Identify number of missing values in dataset\n",
    "df_missing = pd.DataFrame(df.isnull().sum()).reset_index().rename(columns={'index': 'Track', 0: 'Missing Values'})\n",
    "df_missing.drop(index=df.index[0], axis=0, inplace=True)\n",
    "df_missing[df_missing['Missing Values']>0].sort_values(by='Missing Values', ascending=False)"
   ]
  },
  {
   "cell_type": "code",
   "execution_count": null,
   "id": "5d164391-803d-4318-9c76-07755a949a84",
   "metadata": {},
   "outputs": [],
   "source": [
    "msno.bar(df)\n",
    "\n",
    "plt.show()"
   ]
  },
  {
   "cell_type": "code",
   "execution_count": null,
   "id": "1668d73e-d6b0-41a5-b994-70e4bc5a156a",
   "metadata": {},
   "outputs": [],
   "source": [
    "# Identify duplicate values\n",
    "df_duplicates = pd.DataFrame(df.duplicated()).rename(columns={0: 'duplicate'})\n",
    "df_duplicates[df_duplicates['duplicate'] == True]"
   ]
  },
  {
   "cell_type": "markdown",
   "id": "4f697041-c2ec-4d51-b217-3c41b9ed99fd",
   "metadata": {},
   "source": [
    "## 1.3) Data types of each feature"
   ]
  },
  {
   "cell_type": "code",
   "execution_count": null,
   "id": "6a9e1303-9a93-455d-b6f4-f7d946e927d0",
   "metadata": {},
   "outputs": [],
   "source": [
    "table = PrettyTable()\n",
    "table.field_names = ['Feature', 'Data Type']\n",
    "\n",
    "for column in df.columns:\n",
    "    column_dtype = str(df[column].dtype)\n",
    "    table.add_row([column, column_dtype])\n",
    "\n",
    "print(table)"
   ]
  },
  {
   "cell_type": "markdown",
   "id": "bd11d186-5800-4dc2-8148-c7e548c2340c",
   "metadata": {},
   "source": [
    "# 2.) Feature Engineering and data cleanup"
   ]
  },
  {
   "cell_type": "code",
   "execution_count": null,
   "id": "ef1807dd-3bbb-42c2-91bf-ed7b035583b6",
   "metadata": {},
   "outputs": [],
   "source": [
    "def feature_engineering(df):\n",
    "    # Convert 'release date' to datetime format\n",
    "    df['Release Date'] = pd.to_datetime(df['Release Date'], format='%m/%d/%Y')\n",
    "    \n",
    "    # Create a new column 'Year' by extracting the year from 'release date'\n",
    "    df['Year'] = df['Release Date'].dt.year\n",
    "    \n",
    "    # Remove dataset with all empty value\n",
    "    df = df.drop(columns=[\"TIDAL Popularity\"])\n",
    "    \n",
    "    # All column that need data conversion to integer\n",
    "    integer_columns_to_convert = ['Spotify Streams', 'Spotify Playlist Count', 'Spotify Playlist Reach', 'YouTube Views', 'YouTube Likes', 'TikTok Posts', 'TikTok Likes', 'TikTok Views', 'YouTube Playlist Reach', 'AirPlay Spins', 'Deezer Playlist Reach', 'Pandora Streams', 'Pandora Track Stations', 'Soundcloud Streams', 'Shazam Counts']\n",
    "    \n",
    "    # All column that need data conversion to float\n",
    "    float_columns_to_convert = ['Track Score', 'Spotify Popularity', 'Apple Music Playlist Count', 'SiriusXM Spins', 'Amazon Playlist Count']\n",
    "    \n",
    "    # Replace null values with 0\n",
    "    df[integer_columns_to_convert + float_columns_to_convert] = df[integer_columns_to_convert + float_columns_to_convert].fillna(0)\n",
    "    \n",
    "    # Remove commas from the numbers and convert to appropriate type\n",
    "    for col in integer_columns_to_convert:\n",
    "        df[col] = pd.to_numeric(df[col].astype(str).str.replace(',', ''), errors='coerce').fillna(0).astype('int64')\n",
    "    \n",
    "    for col in float_columns_to_convert:\n",
    "        df[col] = pd.to_numeric(df[col].astype(str).str.replace(',', ''), errors='coerce').fillna(0).astype('float64')\n",
    "    \n",
    "    return df\n",
    "\n",
    "df = feature_engineering(df)\n",
    "df.describe()"
   ]
  },
  {
   "cell_type": "code",
   "execution_count": null,
   "id": "773b8ef6-9f6a-4ea7-8aee-309b04c72046",
   "metadata": {},
   "outputs": [],
   "source": [
    "table = PrettyTable()\n",
    "table.field_names = ['Feature', 'Data Type']\n",
    "\n",
    "for column in df.columns:\n",
    "    column_dtype = str(df[column].dtype)\n",
    "    table.add_row([column, column_dtype])\n",
    "\n",
    "print(table)"
   ]
  },
  {
   "cell_type": "markdown",
   "id": "040c6216-7cdc-4974-850c-77777e59fd87",
   "metadata": {},
   "source": [
    "# 3.) Data visualization"
   ]
  },
  {
   "cell_type": "markdown",
   "id": "3365ecb1-fe61-496c-bc49-25d4653dbe5b",
   "metadata": {},
   "source": [
    "### 3.1) Top 30 most frequent and consistent Artists"
   ]
  },
  {
   "cell_type": "markdown",
   "id": "41a5222c-1d44-4d13-9884-51f07a3c3431",
   "metadata": {},
   "source": [
    "*This horizontal bar plot visualizing the top 30 artists based on their frequency of appearance in the dataset provides valuable insights into artist productivity and prominence. By analyzing the number of times each artist appears, we can identify the most prolific or frequently featured artists in our dataset. This visualization contributes to our understanding of artist presence and productivity in the current music landscape, which can inform strategies for artist development, content curation, and platform management. It also provides a foundation for exploring how an artist's output volume relates to their overall success and impact in the industry.*"
   ]
  },
  {
   "cell_type": "code",
   "execution_count": null,
   "id": "4db69ae4-210d-4e1e-ab5f-a3a6930553d6",
   "metadata": {},
   "outputs": [],
   "source": [
    "## Top 20 artist based on how many times they appear\n",
    "\n",
    "value_counts = df['Artist'].value_counts()\n",
    "value_counts.head(30)\n",
    "# Create the horizontal bar plot\n",
    "plt.figure(figsize=(10, 6))\n",
    "value_counts.head(30).plot(kind='barh')\n",
    "\n",
    "# Add labels and title\n",
    "plt.xlabel('Number of appearance')\n",
    "plt.ylabel('Artist')\n",
    "plt.title('Artist based on number of appearance')\n",
    "plt.gca().invert_yaxis()  # Invert the y-axis to have the highest frequency on top\n",
    "plt.grid(axis='x')\n",
    "plt.show()\n"
   ]
  },
  {
   "cell_type": "markdown",
   "id": "8da7a920-d211-42f2-9e1d-d9bc4dfdeffa",
   "metadata": {},
   "source": [
    "### 3.2) Top 20 Artists Based on Aggregated Performance Scores"
   ]
  },
  {
   "cell_type": "markdown",
   "id": "1f6d29bc-7e3f-43a1-b6a0-9eca17b14740",
   "metadata": {},
   "source": [
    "*This visualization will help identify the most successful and popular artists in the dataset. By ranking the top 20 artists by their total Spotify streams, I can analyze which artists have the largest fan bases and the highest overall popularity. This information can be valuable for understanding the current landscape of the music industry, identifying potential industry leaders, and highlighting artists that may warrant further exploration or investment.*"
   ]
  },
  {
   "cell_type": "code",
   "execution_count": null,
   "id": "5874b079-a1db-497a-b37c-6ed0027cc212",
   "metadata": {},
   "outputs": [],
   "source": [
    "## Top 20 Artists based of sum of Spotify streams, Youtube views, Tiktok Views, Spotify Playlist Reach...........\n",
    "\n",
    "artist_agg = df.groupby('Artist').agg({\n",
    "    'Spotify Streams': 'sum',\n",
    "    'YouTube Views': 'sum',\n",
    "    'TikTok Views': 'sum',\n",
    "    'Spotify Playlist Reach': 'sum',\n",
    "    'YouTube Playlist Reach': 'sum',\n",
    "    'Apple Music Playlist Count': 'sum',\n",
    "    'Shazam Counts': 'sum'\n",
    "})\n",
    "\n",
    "artist_agg['Score'] = (\n",
    "    artist_agg['Spotify Streams'] * 0.3 +\n",
    "    artist_agg['YouTube Views'] * 0.3 +\n",
    "    artist_agg['TikTok Views'] * 0.2 +\n",
    "    artist_agg['Spotify Playlist Reach'] * 0.1 +\n",
    "    artist_agg['YouTube Playlist Reach'] * 0.05 +\n",
    "    artist_agg['Apple Music Playlist Count'] * 0.05 +\n",
    "    artist_agg['Shazam Counts'] * 0.05\n",
    ")\n",
    "\n",
    "# Sort artists by the combined score and select the top 20\n",
    "top_artists = artist_agg.sort_values(by='Score', ascending=False).head(20)\n",
    "\n",
    "# Plot the top 20 artists\n",
    "plt.figure(figsize=(12, 8))\n",
    "top_artists['Score'].plot(kind='barh')\n",
    "plt.xlabel('Score')\n",
    "plt.ylabel('Artist')\n",
    "plt.title('Top 20 Artists Based on Combined Score')\n",
    "plt.gca().invert_yaxis()  # Highest score on top\n",
    "plt.grid(axis='x')\n",
    "plt.show()"
   ]
  },
  {
   "cell_type": "markdown",
   "id": "c8e100fb-82fe-47e2-8f36-c47d03bec44b",
   "metadata": {},
   "source": [
    "### 3.3) Cross platform correlation visualization"
   ]
  },
  {
   "cell_type": "markdown",
   "id": "0e34ea22-a64b-4fad-a6b6-ab85f649909e",
   "metadata": {},
   "source": [
    "*The cross-platform correlation heatmap will reveal the relationships between performance metrics across different music platforms. By visualizing these correlations, I can identify which platforms tend to have similar or dissimilar performance patterns. This insight can inform cross-platform marketing strategies, help predict success across platforms, and guide resource allocation for promotion efforts. Understanding these relationships will provide a more comprehensive view of how music performs in the current multi-platform digital landscape, enabling more effective decision-making for artists, labels, and platform managers.*"
   ]
  },
  {
   "cell_type": "code",
   "execution_count": null,
   "id": "04376661-0a9d-4f05-80be-815411051ca4",
   "metadata": {},
   "outputs": [],
   "source": [
    "# Extract relevant columns for correlation\n",
    "correlation_data = df[['Spotify Streams', 'Spotify Playlist Count', 'Spotify Playlist Reach',\n",
    "                       'YouTube Views', 'TikTok Views', 'YouTube Playlist Reach', \n",
    "                       'Apple Music Playlist Count', 'Deezer Playlist Reach', \n",
    "                       'Pandora Streams', 'Soundcloud Streams', 'Track Score', \n",
    "                       'Spotify Popularity']]\n",
    "\n",
    "# Compute the correlation matrix\n",
    "correlation_matrix = correlation_data.corr()\n",
    "\n",
    "# Plot Heatmap\n",
    "plt.figure(figsize=(8, 6))\n",
    "sns.heatmap(correlation_matrix, annot=True, cmap='coolwarm', fmt='.2f', linewidths=.5, vmin=-1, vmax=1)\n",
    "plt.title('Correlation Between various platform counts')\n",
    "plt.show()"
   ]
  },
  {
   "cell_type": "markdown",
   "id": "98f10c70-ab76-4651-9066-62c92fe7a51f",
   "metadata": {},
   "source": [
    "### 3.4) Trends in Explicit Content Over Time"
   ]
  },
  {
   "cell_type": "markdown",
   "id": "196c48ba-21a8-43f1-89c1-afa413fcfb0e",
   "metadata": {},
   "source": [
    "*This line chart illustrates the annual count of explicit tracks over several years, highlighting how the frequency of explicit content in music has changed over time. By tracking the number of explicit tracks each year, the graph reveals trends and shifts in the industry’s approach to explicit content, providing insight into how societal attitudes and industry standards around explicit material have evolved.*"
   ]
  },
  {
   "cell_type": "code",
   "execution_count": null,
   "id": "cd185bf5-f6b7-4e29-9802-ff429fd7f8e1",
   "metadata": {},
   "outputs": [],
   "source": [
    "# Group by 'Year' and calculate the number of Explicit Tracks for each year\n",
    "explicit_tracks = df[df['Explicit Track'] == 1]\n",
    "explicit_tracks_per_year = explicit_tracks.groupby('Year')['Track'].count()\n",
    "\n",
    "plt.figure(figsize=(15, 10))\n",
    "explicit_tracks_per_year.plot(kind='line', marker='o')\n",
    "plt.title('Number of Explicit Tracks per Year')\n",
    "plt.xlabel('Year')\n",
    "plt.ylabel('Number of Tracks')\n",
    "plt.grid(True)\n",
    "plt.show()"
   ]
  },
  {
   "cell_type": "markdown",
   "id": "8c2307f0-a532-44b0-9c13-e8a4f5906efd",
   "metadata": {},
   "source": [
    "### 3.5) Change in Track Score Throughout the Years"
   ]
  },
  {
   "cell_type": "markdown",
   "id": "ea46d3f8-30d1-4836-beb8-e85aab89b659",
   "metadata": {},
   "source": [
    "*This line chart displays the average track score for each year, illustrating how the quality or popularity of tracks has evolved over time. By plotting the average track score annually, the chart provides insights into trends in music quality and listener reception, helping to identify whether there has been a general improvement or decline in track performance and how changing industry dynamics might be influencing these scores.*"
   ]
  },
  {
   "cell_type": "code",
   "execution_count": null,
   "id": "592b5547-f3a1-41f6-a826-810274bb1546",
   "metadata": {},
   "outputs": [],
   "source": [
    "# Group by 'Year' and calculate the average 'Track Score' for each year\n",
    "avg_track_score_per_year = df.groupby('Year')['Track Score'].mean()\n",
    "\n",
    "plt.figure(figsize=(15, 10))\n",
    "avg_track_score_per_year.plot(kind='line', marker='o')\n",
    "plt.title('Change in Track Score Throughout the Years')\n",
    "plt.xlabel('Year')\n",
    "plt.ylabel('Average Track Score')\n",
    "plt.grid(True)\n",
    "plt.show()"
   ]
  },
  {
   "cell_type": "markdown",
   "id": "10c3b61e-badc-46c6-a883-9f8667dd7aa5",
   "metadata": {},
   "source": [
    "### 3.6) Popularity Reach Across Top Platforms"
   ]
  },
  {
   "cell_type": "markdown",
   "id": "dd99ce87-c6e2-459d-9878-1b91b6c96472",
   "metadata": {},
   "source": [
    "*This 3D scatter plot visualizes the performance of tracks across three major platforms: Spotify, YouTube, and TikTok. The plot shows Spotify streams on the x-axis, YouTube views on the y-axis, and TikTok views on the z-axis, with the color of each point representing the track score. By examining this plot, you can identify patterns in how tracks perform across different platforms, reveal correlations between performance metrics on these platforms, and understand how high-scoring tracks fare in terms of reach and engagement across the major streaming services.*"
   ]
  },
  {
   "cell_type": "code",
   "execution_count": null,
   "id": "1ad12a0e-9340-44a0-b83f-11a27ec8afa9",
   "metadata": {},
   "outputs": [],
   "source": [
    "# Extract relevant columns\n",
    "plot_data = df[['Spotify Streams', 'YouTube Views', 'TikTok Views', 'Track Score']].dropna()\n",
    "\n",
    "# Prepare data for 3D plot\n",
    "x = plot_data['Spotify Streams']\n",
    "y = plot_data['YouTube Views']\n",
    "z = plot_data['TikTok Views']\n",
    "color = plot_data['Track Score']\n",
    "\n",
    "# Create 3D scatter plot\n",
    "fig = plt.figure(figsize=(14, 10))\n",
    "ax = fig.add_subplot(111, projection='3d')\n",
    "\n",
    "# Scatter plot\n",
    "sc = ax.scatter(x, y, z, c=color, cmap='viridis', s=50, alpha=0.7, edgecolors='w')\n",
    "\n",
    "# Add labels and title\n",
    "ax.set_xlabel('Spotify Streams')\n",
    "ax.set_ylabel('YouTube Views')\n",
    "ax.set_zlabel('TikTok Views')\n",
    "ax.set_title('3D Scatter Plot of Track Performance Across Platforms')\n",
    "\n",
    "# Add color bar\n",
    "cbar = plt.colorbar(sc, ax=ax, shrink=0.5, aspect=5)\n",
    "cbar.set_label('Track Score')\n",
    "\n",
    "plt.show()"
   ]
  },
  {
   "cell_type": "markdown",
   "id": "2a69e139-90cf-409c-a9e1-008fce09cca0",
   "metadata": {},
   "source": [
    "### 3.7) Impact of Release Date on Track Popularity"
   ]
  },
  {
   "cell_type": "markdown",
   "id": "c5760472-1c4b-4f76-9713-e5720907ecfa",
   "metadata": {},
   "source": [
    "*This line chart demonstrates how average track popularity, as measured by Spotify Popularity, varies by release year. By aggregating data to show the average popularity of tracks for each year, this visualization reveals trends in how the appeal of music tracks has evolved over time. The chart helps to identify whether there are increasing or decreasing trends in track popularity and how industry shifts, such as changes in musical trends or marketing strategies, may have influenced these patterns.*"
   ]
  },
  {
   "cell_type": "code",
   "execution_count": null,
   "id": "cbf04a6e-d3b6-4d9e-aff4-bdab6c70b426",
   "metadata": {},
   "outputs": [],
   "source": [
    "# Aggregate data by year to find average popularity\n",
    "df_yearly = df.groupby('Year')['Spotify Popularity'].mean().reset_index()\n",
    "\n",
    "plt.figure(figsize=(12, 6))\n",
    "sns.lineplot(data=df_yearly, x='Year', y='Spotify Popularity', marker='o')\n",
    "plt.title('Average Track Popularity by Release Year')\n",
    "plt.xlabel('Release Year')\n",
    "plt.ylabel('Average Spotify Popularity')\n",
    "plt.grid(True)\n",
    "plt.show()\n"
   ]
  },
  {
   "cell_type": "markdown",
   "id": "5dfaa3a6-1d76-4ac8-b83f-6671adea46cb",
   "metadata": {},
   "source": [
    "### 3.8) Market Share of Music Discovery"
   ]
  },
  {
   "cell_type": "markdown",
   "id": "722b5b15-4612-4509-b6a4-c2d9037c2089",
   "metadata": {},
   "source": [
    "*This pie chart illustrates the distribution of track counts across various music discovery platforms, including Spotify, YouTube, TikTok, Apple Music, Deezer, Amazon, Pandora, and Soundcloud. By visualizing the sum of track counts for each platform, the chart provides insights into how tracks are distributed across different services and highlights the relative market share of each platform in the music discovery landscape. This visualization helps to understand which platforms dominate in track discovery and engagement, guiding decisions on where to focus marketing efforts or where trends in music consumption are shifting.*"
   ]
  },
  {
   "cell_type": "code",
   "execution_count": null,
   "id": "3595b142-7a69-4082-b703-e0a9659eafc1",
   "metadata": {},
   "outputs": [],
   "source": [
    "# Sum of track counts per platform (example using Spotify Playlist Count, YouTube Playlist Reach, etc.)\n",
    "platform_counts = {\n",
    "    'Spotify': df['Spotify Playlist Count'].sum(),\n",
    "    'YouTube': df['YouTube Views'].sum(),\n",
    "    'TikTok': df['TikTok Posts'].sum(),\n",
    "    'Apple Music': df['Apple Music Playlist Count'].sum(),\n",
    "    'Deezer': df['Deezer Playlist Count'].sum(),\n",
    "    'Amazon': df['Amazon Playlist Count'].sum(),\n",
    "    'Pandora': df['Pandora Streams'].sum(),\n",
    "    'Soundcloud': df['Soundcloud Streams'].sum()\n",
    "}\n",
    "\n",
    "plt.figure(figsize=(10, 10))\n",
    "\n",
    "# Plot pie chart\n",
    "plt.pie(platform_counts.values(), labels=platform_counts.keys(), autopct='%1.1f%%', colors=plt.cm.Paired(range(len(platform_counts))))\n",
    "plt.title('Distribution of Tracks Across Platforms')\n",
    "plt.show()"
   ]
  },
  {
   "cell_type": "markdown",
   "id": "17fd1bc2-c09a-42f1-9ff6-c3ce40465484",
   "metadata": {},
   "source": [
    "### 3.9) Artist Engagement Across Platforms"
   ]
  },
  {
   "cell_type": "markdown",
   "id": "24a4f930-6b93-4854-848a-1e257f273d03",
   "metadata": {},
   "source": [
    "*This parallel coordinates plot visualizes how artists perform across multiple music platforms, including Spotify, YouTube, TikTok, and Apple Music. Each line represents an artist, with vertical axes representing performance metrics on each platform. By examining the plot, you can see how different artists compare in their engagement across these platforms, revealing patterns of consistent performance or highlighting those who excel in certain areas.*"
   ]
  },
  {
   "cell_type": "code",
   "execution_count": null,
   "id": "48daab26-4fad-4a98-9aad-4127ae7b64ca",
   "metadata": {},
   "outputs": [],
   "source": [
    "plot_data = df[['Artist', 'Spotify Streams', 'YouTube Views', 'TikTok Views', 'Apple Music Playlist Count']].dropna()\n",
    "\n",
    "# Create a new DataFrame with average values for each artist\n",
    "artist_engagement = plot_data.groupby('Artist').mean().reset_index()\n",
    "\n",
    "# Plot\n",
    "plt.figure(figsize=(14, 8))\n",
    "parallel_coordinates(artist_engagement, 'Artist', colormap=plt.get_cmap('tab10'))\n",
    "plt.title('Artist Engagement Across Platforms')\n",
    "plt.xlabel('Platforms')\n",
    "plt.ylabel('Average Values')\n",
    "plt.legend(title='Artist', bbox_to_anchor=(1.05, 1), loc='upper left')\n",
    "plt.grid(True)\n",
    "plt.show()"
   ]
  },
  {
   "cell_type": "markdown",
   "id": "743c37d1-89e6-4eaf-a710-0ac4bb0f4f9e",
   "metadata": {},
   "source": [
    "### 3.10) Total Track Engagement Over Time"
   ]
  },
  {
   "cell_type": "markdown",
   "id": "4e027b1c-c03b-4cde-8b6b-b47dcdc1a688",
   "metadata": {},
   "source": [
    "*This line plot shows the annual total engagement of tracks by aggregating Spotify streams, YouTube views, and TikTok views. The x-axis represents the year, and the y-axis shows the total combined engagement for all tracks in that year. This visualization helps identify trends and shifts in overall track engagement, providing insights into how audience interaction with tracks has changed over time.*"
   ]
  },
  {
   "cell_type": "code",
   "execution_count": null,
   "id": "98eeaa3c-00c6-42e3-a0ad-fdff6462e7b7",
   "metadata": {},
   "outputs": [],
   "source": [
    "# Aggregate data by year to find total engagement (e.g., combined streams and views)\n",
    "df['Total Engagement'] = df['Spotify Streams'] + df['YouTube Views'] + df['TikTok Views']\n",
    "df_yearly_engagement = df.groupby('Year')['Total Engagement'].sum().reset_index()\n",
    "\n",
    "plt.figure(figsize=(12, 6))\n",
    "sns.lineplot(data=df_yearly_engagement, x='Year', y='Total Engagement', marker='o')\n",
    "plt.title('Total Track Engagement Over Time')\n",
    "plt.xlabel('Year')\n",
    "plt.ylabel('Total Engagement')\n",
    "plt.grid(True)\n",
    "plt.show()\n"
   ]
  }
 ],
 "metadata": {
  "kernelspec": {
   "display_name": "Python 3 (ipykernel)",
   "language": "python",
   "name": "python3"
  },
  "language_info": {
   "codemirror_mode": {
    "name": "ipython",
    "version": 3
   },
   "file_extension": ".py",
   "mimetype": "text/x-python",
   "name": "python",
   "nbconvert_exporter": "python",
   "pygments_lexer": "ipython3",
   "version": "3.12.4"
  }
 },
 "nbformat": 4,
 "nbformat_minor": 5
}
